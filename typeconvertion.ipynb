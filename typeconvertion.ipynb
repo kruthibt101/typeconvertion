{
 "cells": [
  {
   "cell_type": "code",
   "execution_count": null,
   "id": "403adcce-2476-479f-ab57-759e2a69c288",
   "metadata": {},
   "outputs": [],
   "source": [
    "#assign ment-1 "
   ]
  },
  {
   "cell_type": "markdown",
   "id": "8810d070-368e-4b86-a319-f259281e57aa",
   "metadata": {},
   "source": [
    "1.Convert an integer to a floating  point number\n",
    "Python's method float() will convert integers to floats. To use this function, add an integer inside of the parentheses:\n",
    "In this case, 57 will be converted to 57.0 .\n",
    "You can also use this with a variable. ...\n",
    "          By using the float() function, we can convert integers to floats.\n"
   ]
  },
  {
   "cell_type": "code",
   "execution_count": 2,
   "id": "c5d7df2a-e7b9-4d62-b7a9-08943aac90ce",
   "metadata": {},
   "outputs": [
    {
     "data": {
      "text/plain": [
       "float"
      ]
     },
     "execution_count": 2,
     "metadata": {},
     "output_type": "execute_result"
    }
   ],
   "source": [
    "#ex \n",
    "k = 5\n",
    "type(k)\n",
    "k = (k+2.0)\n",
    "type(k)"
   ]
  },
  {
   "cell_type": "code",
   "execution_count": null,
   "id": "e94370c4-01f5-44d1-93a5-ee59630976e3",
   "metadata": {},
   "outputs": [],
   "source": [
    "2.Convert an float to integer\n",
    "To convert float into integer use () this function."
   ]
  },
  {
   "cell_type": "code",
   "execution_count": 6,
   "id": "e5d0c1c7-a664-4828-b3fc-4fd3ef2b05ae",
   "metadata": {},
   "outputs": [
    {
     "data": {
      "text/plain": [
       "int"
      ]
     },
     "execution_count": 6,
     "metadata": {},
     "output_type": "execute_result"
    }
   ],
   "source": [
    "#ex \n",
    "k = 5.0 \n",
    "type(k)\n",
    "k = int(k) \n",
    "type(k)"
   ]
  },
  {
   "cell_type": "markdown",
   "id": "84660a61-8418-4055-bacc-d731e5bacd37",
   "metadata": {},
   "source": [
    "3.Convert string into int.\n",
    "We can’t convert string into int"
   ]
  },
  {
   "cell_type": "code",
   "execution_count": 7,
   "id": "d82fc246-d877-4a74-89d5-5e425017a17c",
   "metadata": {},
   "outputs": [
    {
     "ename": "ValueError",
     "evalue": "invalid literal for int() with base 10: 'ram'",
     "output_type": "error",
     "traceback": [
      "\u001b[0;31m---------------------------------------------------------------------------\u001b[0m",
      "\u001b[0;31mValueError\u001b[0m                                Traceback (most recent call last)",
      "Cell \u001b[0;32mIn[7], line 2\u001b[0m\n\u001b[1;32m      1\u001b[0m a \u001b[38;5;241m=\u001b[39m\u001b[38;5;124m\"\u001b[39m\u001b[38;5;124mram\u001b[39m\u001b[38;5;124m\"\u001b[39m\n\u001b[0;32m----> 2\u001b[0m c \u001b[38;5;241m=\u001b[39m \u001b[38;5;28;43mint\u001b[39;49m\u001b[43m(\u001b[49m\u001b[43ma\u001b[49m\u001b[43m)\u001b[49m\n",
      "\u001b[0;31mValueError\u001b[0m: invalid literal for int() with base 10: 'ram'"
     ]
    }
   ],
   "source": [
    "a =\"ram\"\n",
    "c = int(a)"
   ]
  },
  {
   "cell_type": "markdown",
   "id": "5fba0aaa-7a38-4457-80fe-56cbbfa341c7",
   "metadata": {},
   "source": [
    "4.Convert  a list into a Tuple\n",
    "To  convert a list to a tuple "
   ]
  },
  {
   "cell_type": "code",
   "execution_count": 10,
   "id": "66ece007-9cbe-4143-94b5-2b35d8207b44",
   "metadata": {},
   "outputs": [],
   "source": [
    "#ex\n",
    "My_list = [1,2,3,4]\n"
   ]
  },
  {
   "cell_type": "code",
   "execution_count": 12,
   "id": "c042b2f7-5c44-44f6-a641-a29c528418fb",
   "metadata": {},
   "outputs": [
    {
     "data": {
      "text/plain": [
       "(1, 2, 3, 4)"
      ]
     },
     "execution_count": 12,
     "metadata": {},
     "output_type": "execute_result"
    }
   ],
   "source": [
    "My_tuple = tuple(My_list)\n",
    "tuple(My_list)"
   ]
  },
  {
   "cell_type": "markdown",
   "id": "022b7a40-b8e6-47e9-b2da-acbfcdbf829d",
   "metadata": {},
   "source": [
    " 4.Convert tuple in to list.\n",
    "We can convert a tuple into list using list() function"
   ]
  },
  {
   "cell_type": "code",
   "execution_count": 13,
   "id": "05b5c475-343b-4477-8cac-1b79491c5c7b",
   "metadata": {},
   "outputs": [
    {
     "name": "stdout",
     "output_type": "stream",
     "text": [
      "[2, 4, 7, 8, 9]\n"
     ]
    }
   ],
   "source": [
    "#ex;\n",
    "my_tuple = [2,4,7,8,9]\n",
    "print(my_tuple)"
   ]
  },
  {
   "cell_type": "code",
   "execution_count": 14,
   "id": "30b22209-c165-4995-8ab6-4c19a057cc7d",
   "metadata": {},
   "outputs": [
    {
     "name": "stdout",
     "output_type": "stream",
     "text": [
      "[2, 4, 7, 8, 9]\n"
     ]
    }
   ],
   "source": [
    "my_list = list(my_tuple)\n",
    "print(my_list)"
   ]
  },
  {
   "cell_type": "markdown",
   "id": "3929d0fa-39a3-4e2b-b05c-099edfd068fe",
   "metadata": {},
   "source": [
    "6.Convert a decimal number into binary.\n",
    " To convert decimal to binary use a binary function ,then convert to decimal is shown in below."
   ]
  },
  {
   "cell_type": "code",
   "execution_count": 15,
   "id": "1040a155-1ff4-49d0-af1c-a75779389146",
   "metadata": {},
   "outputs": [
    {
     "data": {
      "text/plain": [
       "'0b101'"
      ]
     },
     "execution_count": 15,
     "metadata": {},
     "output_type": "execute_result"
    }
   ],
   "source": [
    "#ex;\n",
    "a = 5\n",
    "bin(5)"
   ]
  },
  {
   "cell_type": "code",
   "execution_count": 17,
   "id": "9c783289-6927-49f6-85ee-e8ceca631719",
   "metadata": {},
   "outputs": [
    {
     "data": {
      "text/plain": [
       "'0b10'"
      ]
     },
     "execution_count": 17,
     "metadata": {},
     "output_type": "execute_result"
    }
   ],
   "source": [
    "bin(2)"
   ]
  },
  {
   "cell_type": "code",
   "execution_count": null,
   "id": "701f73d6-09d6-4d2e-9044-e2b86e946501",
   "metadata": {},
   "outputs": [],
   "source": []
  },
  {
   "cell_type": "code",
   "execution_count": null,
   "id": "a82fdd4d-6d1c-4af2-b83a-baecfeff6522",
   "metadata": {},
   "outputs": [],
   "source": []
  },
  {
   "cell_type": "code",
   "execution_count": null,
   "id": "eb685a74-b3ae-4eb8-b4e9-d33ec8305311",
   "metadata": {},
   "outputs": [],
   "source": []
  },
  {
   "cell_type": "code",
   "execution_count": null,
   "id": "b355cef2-9cc6-4b0a-a82f-964723bc7be2",
   "metadata": {},
   "outputs": [],
   "source": []
  }
 ],
 "metadata": {
  "kernelspec": {
   "display_name": "Python 3 (ipykernel)",
   "language": "python",
   "name": "python3"
  },
  "language_info": {
   "codemirror_mode": {
    "name": "ipython",
    "version": 3
   },
   "file_extension": ".py",
   "mimetype": "text/x-python",
   "name": "python",
   "nbconvert_exporter": "python",
   "pygments_lexer": "ipython3",
   "version": "3.10.8"
  }
 },
 "nbformat": 4,
 "nbformat_minor": 5
}
